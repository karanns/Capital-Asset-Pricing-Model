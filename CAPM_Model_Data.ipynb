{
  "nbformat": 4,
  "nbformat_minor": 0,
  "metadata": {
    "colab": {
      "name": "CAPM Model Data",
      "provenance": [],
      "collapsed_sections": []
    },
    "kernelspec": {
      "name": "python3",
      "display_name": "Python 3"
    },
    "language_info": {
      "name": "python"
    }
  },
  "cells": [
    {
      "cell_type": "code",
      "metadata": {
        "id": "wufiLsxK47d4"
      },
      "source": [
        "import pandas as pd\n",
        "import numpy as np\n",
        "import seaborn as sns\n",
        "import warnings\n",
        "import matplotlib.pyplot as plt\n",
        "%matplotlib inline\n",
        "import datetime\n",
        "from pandas_datareader import data as web\n",
        "import scipy.optimize as sco\n",
        "import requests\n",
        "from bs4 import BeautifulSoup\n",
        "from datetime import datetime\n",
        "import pandas_datareader.data as web"
      ],
      "execution_count": null,
      "outputs": []
    },
    {
      "cell_type": "code",
      "metadata": {
        "colab": {
          "base_uri": "https://localhost:8080/"
        },
        "id": "kN7cViaVwBeP",
        "outputId": "226c1a01-50af-4f53-f5bf-4f72fa286d1d"
      },
      "source": [
        "pip install yfinance"
      ],
      "execution_count": null,
      "outputs": [
        {
          "output_type": "stream",
          "text": [
            "Requirement already satisfied: yfinance in /usr/local/lib/python3.7/dist-packages (0.1.63)\n",
            "Requirement already satisfied: pandas>=0.24 in /usr/local/lib/python3.7/dist-packages (from yfinance) (1.1.5)\n",
            "Requirement already satisfied: numpy>=1.15 in /usr/local/lib/python3.7/dist-packages (from yfinance) (1.19.5)\n",
            "Requirement already satisfied: requests>=2.20 in /usr/local/lib/python3.7/dist-packages (from yfinance) (2.23.0)\n",
            "Requirement already satisfied: multitasking>=0.0.7 in /usr/local/lib/python3.7/dist-packages (from yfinance) (0.0.9)\n",
            "Requirement already satisfied: lxml>=4.5.1 in /usr/local/lib/python3.7/dist-packages (from yfinance) (4.6.3)\n",
            "Requirement already satisfied: pytz>=2017.2 in /usr/local/lib/python3.7/dist-packages (from pandas>=0.24->yfinance) (2018.9)\n",
            "Requirement already satisfied: python-dateutil>=2.7.3 in /usr/local/lib/python3.7/dist-packages (from pandas>=0.24->yfinance) (2.8.1)\n",
            "Requirement already satisfied: six>=1.5 in /usr/local/lib/python3.7/dist-packages (from python-dateutil>=2.7.3->pandas>=0.24->yfinance) (1.15.0)\n",
            "Requirement already satisfied: certifi>=2017.4.17 in /usr/local/lib/python3.7/dist-packages (from requests>=2.20->yfinance) (2021.5.30)\n",
            "Requirement already satisfied: chardet<4,>=3.0.2 in /usr/local/lib/python3.7/dist-packages (from requests>=2.20->yfinance) (3.0.4)\n",
            "Requirement already satisfied: urllib3!=1.25.0,!=1.25.1,<1.26,>=1.21.1 in /usr/local/lib/python3.7/dist-packages (from requests>=2.20->yfinance) (1.24.3)\n",
            "Requirement already satisfied: idna<3,>=2.5 in /usr/local/lib/python3.7/dist-packages (from requests>=2.20->yfinance) (2.10)\n"
          ],
          "name": "stdout"
        }
      ]
    },
    {
      "cell_type": "code",
      "metadata": {
        "colab": {
          "base_uri": "https://localhost:8080/"
        },
        "id": "B8W55-h-6Yel",
        "outputId": "3edbe25a-78a8-4ed4-daa7-2cf350c16eb6"
      },
      "source": [
        "\n",
        "import yfinance as yf\n",
        "\n",
        "data = yf.download('MSFT','2015-07-31','2021-07-31')"
      ],
      "execution_count": null,
      "outputs": [
        {
          "output_type": "stream",
          "text": [
            "\r[*********************100%***********************]  1 of 1 completed\n"
          ],
          "name": "stdout"
        }
      ]
    },
    {
      "cell_type": "code",
      "metadata": {
        "colab": {
          "base_uri": "https://localhost:8080/",
          "height": 235
        },
        "id": "kxV9ey0G6c32",
        "outputId": "2ff7bb9b-9a15-4da5-8f5a-4e49d0860e37"
      },
      "source": [
        "data.head()"
      ],
      "execution_count": null,
      "outputs": [
        {
          "output_type": "execute_result",
          "data": {
            "text/html": [
              "<div>\n",
              "<style scoped>\n",
              "    .dataframe tbody tr th:only-of-type {\n",
              "        vertical-align: middle;\n",
              "    }\n",
              "\n",
              "    .dataframe tbody tr th {\n",
              "        vertical-align: top;\n",
              "    }\n",
              "\n",
              "    .dataframe thead th {\n",
              "        text-align: right;\n",
              "    }\n",
              "</style>\n",
              "<table border=\"1\" class=\"dataframe\">\n",
              "  <thead>\n",
              "    <tr style=\"text-align: right;\">\n",
              "      <th></th>\n",
              "      <th>Open</th>\n",
              "      <th>High</th>\n",
              "      <th>Low</th>\n",
              "      <th>Close</th>\n",
              "      <th>Adj Close</th>\n",
              "      <th>Volume</th>\n",
              "    </tr>\n",
              "    <tr>\n",
              "      <th>Date</th>\n",
              "      <th></th>\n",
              "      <th></th>\n",
              "      <th></th>\n",
              "      <th></th>\n",
              "      <th></th>\n",
              "      <th></th>\n",
              "    </tr>\n",
              "  </thead>\n",
              "  <tbody>\n",
              "    <tr>\n",
              "      <th>2015-07-31</th>\n",
              "      <td>47.290001</td>\n",
              "      <td>47.369999</td>\n",
              "      <td>46.500000</td>\n",
              "      <td>46.700001</td>\n",
              "      <td>41.859325</td>\n",
              "      <td>31201500</td>\n",
              "    </tr>\n",
              "    <tr>\n",
              "      <th>2015-08-03</th>\n",
              "      <td>46.980000</td>\n",
              "      <td>47.000000</td>\n",
              "      <td>46.450001</td>\n",
              "      <td>46.810001</td>\n",
              "      <td>41.957920</td>\n",
              "      <td>24125900</td>\n",
              "    </tr>\n",
              "    <tr>\n",
              "      <th>2015-08-04</th>\n",
              "      <td>46.750000</td>\n",
              "      <td>47.709999</td>\n",
              "      <td>46.680000</td>\n",
              "      <td>47.540001</td>\n",
              "      <td>42.612240</td>\n",
              "      <td>33403900</td>\n",
              "    </tr>\n",
              "    <tr>\n",
              "      <th>2015-08-05</th>\n",
              "      <td>47.980000</td>\n",
              "      <td>48.410000</td>\n",
              "      <td>47.540001</td>\n",
              "      <td>47.580002</td>\n",
              "      <td>42.648106</td>\n",
              "      <td>26959700</td>\n",
              "    </tr>\n",
              "    <tr>\n",
              "      <th>2015-08-06</th>\n",
              "      <td>47.709999</td>\n",
              "      <td>47.770000</td>\n",
              "      <td>46.330002</td>\n",
              "      <td>46.619999</td>\n",
              "      <td>41.787617</td>\n",
              "      <td>27368000</td>\n",
              "    </tr>\n",
              "  </tbody>\n",
              "</table>\n",
              "</div>"
            ],
            "text/plain": [
              "                 Open       High        Low      Close  Adj Close    Volume\n",
              "Date                                                                       \n",
              "2015-07-31  47.290001  47.369999  46.500000  46.700001  41.859325  31201500\n",
              "2015-08-03  46.980000  47.000000  46.450001  46.810001  41.957920  24125900\n",
              "2015-08-04  46.750000  47.709999  46.680000  47.540001  42.612240  33403900\n",
              "2015-08-05  47.980000  48.410000  47.540001  47.580002  42.648106  26959700\n",
              "2015-08-06  47.709999  47.770000  46.330002  46.619999  41.787617  27368000"
            ]
          },
          "metadata": {
            "tags": []
          },
          "execution_count": 304
        }
      ]
    },
    {
      "cell_type": "code",
      "metadata": {
        "id": "tsOsGHwb7Uya"
      },
      "source": [
        "data = data.reset_index()"
      ],
      "execution_count": null,
      "outputs": []
    },
    {
      "cell_type": "code",
      "metadata": {
        "id": "vQxvXsi2dzXL"
      },
      "source": [
        "data['Returns'] = data['Adj Close'].pct_change()"
      ],
      "execution_count": null,
      "outputs": []
    },
    {
      "cell_type": "code",
      "metadata": {
        "colab": {
          "base_uri": "https://localhost:8080/",
          "height": 204
        },
        "id": "dZrPxUhReAH2",
        "outputId": "035cd741-7edb-4e88-847a-d02f8a3d98f1"
      },
      "source": [
        "data.head()"
      ],
      "execution_count": null,
      "outputs": [
        {
          "output_type": "execute_result",
          "data": {
            "text/html": [
              "<div>\n",
              "<style scoped>\n",
              "    .dataframe tbody tr th:only-of-type {\n",
              "        vertical-align: middle;\n",
              "    }\n",
              "\n",
              "    .dataframe tbody tr th {\n",
              "        vertical-align: top;\n",
              "    }\n",
              "\n",
              "    .dataframe thead th {\n",
              "        text-align: right;\n",
              "    }\n",
              "</style>\n",
              "<table border=\"1\" class=\"dataframe\">\n",
              "  <thead>\n",
              "    <tr style=\"text-align: right;\">\n",
              "      <th></th>\n",
              "      <th>Date</th>\n",
              "      <th>Open</th>\n",
              "      <th>High</th>\n",
              "      <th>Low</th>\n",
              "      <th>Close</th>\n",
              "      <th>Adj Close</th>\n",
              "      <th>Volume</th>\n",
              "      <th>Returns</th>\n",
              "    </tr>\n",
              "  </thead>\n",
              "  <tbody>\n",
              "    <tr>\n",
              "      <th>0</th>\n",
              "      <td>2015-07-31</td>\n",
              "      <td>47.290001</td>\n",
              "      <td>47.369999</td>\n",
              "      <td>46.500000</td>\n",
              "      <td>46.700001</td>\n",
              "      <td>41.859325</td>\n",
              "      <td>31201500</td>\n",
              "      <td>NaN</td>\n",
              "    </tr>\n",
              "    <tr>\n",
              "      <th>1</th>\n",
              "      <td>2015-08-03</td>\n",
              "      <td>46.980000</td>\n",
              "      <td>47.000000</td>\n",
              "      <td>46.450001</td>\n",
              "      <td>46.810001</td>\n",
              "      <td>41.957920</td>\n",
              "      <td>24125900</td>\n",
              "      <td>0.002355</td>\n",
              "    </tr>\n",
              "    <tr>\n",
              "      <th>2</th>\n",
              "      <td>2015-08-04</td>\n",
              "      <td>46.750000</td>\n",
              "      <td>47.709999</td>\n",
              "      <td>46.680000</td>\n",
              "      <td>47.540001</td>\n",
              "      <td>42.612240</td>\n",
              "      <td>33403900</td>\n",
              "      <td>0.015595</td>\n",
              "    </tr>\n",
              "    <tr>\n",
              "      <th>3</th>\n",
              "      <td>2015-08-05</td>\n",
              "      <td>47.980000</td>\n",
              "      <td>48.410000</td>\n",
              "      <td>47.540001</td>\n",
              "      <td>47.580002</td>\n",
              "      <td>42.648106</td>\n",
              "      <td>26959700</td>\n",
              "      <td>0.000842</td>\n",
              "    </tr>\n",
              "    <tr>\n",
              "      <th>4</th>\n",
              "      <td>2015-08-06</td>\n",
              "      <td>47.709999</td>\n",
              "      <td>47.770000</td>\n",
              "      <td>46.330002</td>\n",
              "      <td>46.619999</td>\n",
              "      <td>41.787617</td>\n",
              "      <td>27368000</td>\n",
              "      <td>-0.020176</td>\n",
              "    </tr>\n",
              "  </tbody>\n",
              "</table>\n",
              "</div>"
            ],
            "text/plain": [
              "        Date       Open       High  ...  Adj Close    Volume   Returns\n",
              "0 2015-07-31  47.290001  47.369999  ...  41.859325  31201500       NaN\n",
              "1 2015-08-03  46.980000  47.000000  ...  41.957920  24125900  0.002355\n",
              "2 2015-08-04  46.750000  47.709999  ...  42.612240  33403900  0.015595\n",
              "3 2015-08-05  47.980000  48.410000  ...  42.648106  26959700  0.000842\n",
              "4 2015-08-06  47.709999  47.770000  ...  41.787617  27368000 -0.020176\n",
              "\n",
              "[5 rows x 8 columns]"
            ]
          },
          "metadata": {
            "tags": []
          },
          "execution_count": 307
        }
      ]
    },
    {
      "cell_type": "code",
      "metadata": {
        "id": "iSyas8Hrenos"
      },
      "source": [
        "data.rename({'Returns':'MSFT Returns'}, axis = 1, inplace = True)"
      ],
      "execution_count": null,
      "outputs": []
    },
    {
      "cell_type": "code",
      "metadata": {
        "id": "CX_FDdI7e70D"
      },
      "source": [
        ""
      ],
      "execution_count": null,
      "outputs": []
    },
    {
      "cell_type": "code",
      "metadata": {
        "colab": {
          "base_uri": "https://localhost:8080/"
        },
        "id": "tmQ4vniUe9JH",
        "outputId": "781d4f9b-4651-42d2-b59e-62ab51790fb4"
      },
      "source": [
        "\n",
        "import yfinance as yf\n",
        "\n",
        "nsdq = yf.download('^IXIC','2015-07-31','2021-07-31')"
      ],
      "execution_count": null,
      "outputs": [
        {
          "output_type": "stream",
          "text": [
            "\r[*********************100%***********************]  1 of 1 completed\n"
          ],
          "name": "stdout"
        }
      ]
    },
    {
      "cell_type": "code",
      "metadata": {
        "colab": {
          "base_uri": "https://localhost:8080/",
          "height": 235
        },
        "id": "npBF1l_kfm0v",
        "outputId": "1e3ff339-69d8-43b3-a035-1bd99f958c8b"
      },
      "source": [
        "nsdq.reset_index()\n",
        "nsdq['Returns'] = nsdq['Adj Close'].pct_change()\n",
        "nsdq.head()"
      ],
      "execution_count": null,
      "outputs": [
        {
          "output_type": "execute_result",
          "data": {
            "text/html": [
              "<div>\n",
              "<style scoped>\n",
              "    .dataframe tbody tr th:only-of-type {\n",
              "        vertical-align: middle;\n",
              "    }\n",
              "\n",
              "    .dataframe tbody tr th {\n",
              "        vertical-align: top;\n",
              "    }\n",
              "\n",
              "    .dataframe thead th {\n",
              "        text-align: right;\n",
              "    }\n",
              "</style>\n",
              "<table border=\"1\" class=\"dataframe\">\n",
              "  <thead>\n",
              "    <tr style=\"text-align: right;\">\n",
              "      <th></th>\n",
              "      <th>Open</th>\n",
              "      <th>High</th>\n",
              "      <th>Low</th>\n",
              "      <th>Close</th>\n",
              "      <th>Adj Close</th>\n",
              "      <th>Volume</th>\n",
              "      <th>Returns</th>\n",
              "    </tr>\n",
              "    <tr>\n",
              "      <th>Date</th>\n",
              "      <th></th>\n",
              "      <th></th>\n",
              "      <th></th>\n",
              "      <th></th>\n",
              "      <th></th>\n",
              "      <th></th>\n",
              "      <th></th>\n",
              "    </tr>\n",
              "  </thead>\n",
              "  <tbody>\n",
              "    <tr>\n",
              "      <th>2015-07-31</th>\n",
              "      <td>5148.180176</td>\n",
              "      <td>5155.020020</td>\n",
              "      <td>5122.370117</td>\n",
              "      <td>5128.279785</td>\n",
              "      <td>5128.279785</td>\n",
              "      <td>1926360000</td>\n",
              "      <td>NaN</td>\n",
              "    </tr>\n",
              "    <tr>\n",
              "      <th>2015-08-03</th>\n",
              "      <td>5134.339844</td>\n",
              "      <td>5143.080078</td>\n",
              "      <td>5082.319824</td>\n",
              "      <td>5115.379883</td>\n",
              "      <td>5115.379883</td>\n",
              "      <td>1790080000</td>\n",
              "      <td>-0.002515</td>\n",
              "    </tr>\n",
              "    <tr>\n",
              "      <th>2015-08-04</th>\n",
              "      <td>5110.959961</td>\n",
              "      <td>5125.899902</td>\n",
              "      <td>5092.459961</td>\n",
              "      <td>5105.549805</td>\n",
              "      <td>5105.549805</td>\n",
              "      <td>1819700000</td>\n",
              "      <td>-0.001922</td>\n",
              "    </tr>\n",
              "    <tr>\n",
              "      <th>2015-08-05</th>\n",
              "      <td>5132.770020</td>\n",
              "      <td>5175.259766</td>\n",
              "      <td>5131.859863</td>\n",
              "      <td>5139.939941</td>\n",
              "      <td>5139.939941</td>\n",
              "      <td>2041490000</td>\n",
              "      <td>0.006736</td>\n",
              "    </tr>\n",
              "    <tr>\n",
              "      <th>2015-08-06</th>\n",
              "      <td>5146.629883</td>\n",
              "      <td>5149.930176</td>\n",
              "      <td>5035.410156</td>\n",
              "      <td>5056.439941</td>\n",
              "      <td>5056.439941</td>\n",
              "      <td>2290950000</td>\n",
              "      <td>-0.016245</td>\n",
              "    </tr>\n",
              "  </tbody>\n",
              "</table>\n",
              "</div>"
            ],
            "text/plain": [
              "                   Open         High  ...      Volume   Returns\n",
              "Date                                  ...                      \n",
              "2015-07-31  5148.180176  5155.020020  ...  1926360000       NaN\n",
              "2015-08-03  5134.339844  5143.080078  ...  1790080000 -0.002515\n",
              "2015-08-04  5110.959961  5125.899902  ...  1819700000 -0.001922\n",
              "2015-08-05  5132.770020  5175.259766  ...  2041490000  0.006736\n",
              "2015-08-06  5146.629883  5149.930176  ...  2290950000 -0.016245\n",
              "\n",
              "[5 rows x 7 columns]"
            ]
          },
          "metadata": {
            "tags": []
          },
          "execution_count": 310
        }
      ]
    },
    {
      "cell_type": "code",
      "metadata": {
        "id": "ixCOFSqHf3F9"
      },
      "source": [
        "nsdq.rename({'Returns':'Market Returns'}, axis = 1, inplace = True)"
      ],
      "execution_count": null,
      "outputs": []
    },
    {
      "cell_type": "code",
      "metadata": {
        "id": "yx4jeJuCjU8o"
      },
      "source": [
        ""
      ],
      "execution_count": null,
      "outputs": []
    },
    {
      "cell_type": "code",
      "metadata": {
        "colab": {
          "base_uri": "https://localhost:8080/"
        },
        "id": "iWw8v6JBmJgc",
        "outputId": "e75c0933-5564-4e67-858f-1ccfa85442be"
      },
      "source": [
        "from google.colab import drive\n",
        "drive.mount('/content/drive')"
      ],
      "execution_count": null,
      "outputs": [
        {
          "output_type": "stream",
          "text": [
            "Drive already mounted at /content/drive; to attempt to forcibly remount, call drive.mount(\"/content/drive\", force_remount=True).\n"
          ],
          "name": "stdout"
        }
      ]
    },
    {
      "cell_type": "code",
      "metadata": {
        "id": "N20KzE8dmQXu"
      },
      "source": [
        "import pandas as pd\n",
        "tbill = pd.read_csv('/content/drive/MyDrive/TBill10.csv')"
      ],
      "execution_count": null,
      "outputs": []
    },
    {
      "cell_type": "code",
      "metadata": {
        "colab": {
          "base_uri": "https://localhost:8080/"
        },
        "id": "EtyPLAQLphy_",
        "outputId": "9436fa13-0f71-4c9a-c249-ca0679cff73f"
      },
      "source": [
        "tbill.columns"
      ],
      "execution_count": null,
      "outputs": [
        {
          "output_type": "execute_result",
          "data": {
            "text/plain": [
              "Index(['Date', ' Open', ' High', ' Low', ' Close'], dtype='object')"
            ]
          },
          "metadata": {
            "tags": []
          },
          "execution_count": 314
        }
      ]
    },
    {
      "cell_type": "code",
      "metadata": {
        "id": "K5KAc-qApx53"
      },
      "source": [
        ""
      ],
      "execution_count": null,
      "outputs": []
    },
    {
      "cell_type": "code",
      "metadata": {
        "id": "SyMCFYGemer6"
      },
      "source": [
        "#df = df.reset_index()"
      ],
      "execution_count": null,
      "outputs": []
    },
    {
      "cell_type": "code",
      "metadata": {
        "id": "6fSs6-bSqQp8"
      },
      "source": [
        "#df.drop(['index'], axis = 1, inplace = True)"
      ],
      "execution_count": null,
      "outputs": []
    },
    {
      "cell_type": "code",
      "metadata": {
        "id": "wrtsyZUFrL3c"
      },
      "source": [
        "#df.head()"
      ],
      "execution_count": null,
      "outputs": []
    },
    {
      "cell_type": "code",
      "metadata": {
        "id": "t0N1X6X2xP8K"
      },
      "source": [
        "data['M'] = data['Date'].dt.to_period('m')"
      ],
      "execution_count": null,
      "outputs": []
    },
    {
      "cell_type": "code",
      "metadata": {
        "id": "O9UAHnW5VGwX"
      },
      "source": [
        "data['ret_1'] = data['MSFT Returns'] + 1\n",
        "group = data.groupby(['M'])"
      ],
      "execution_count": null,
      "outputs": []
    },
    {
      "cell_type": "code",
      "metadata": {
        "id": "UT4K9juIVzLv"
      },
      "source": [
        "data['Returns'] = group['ret_1'].transform(np.product) - 1"
      ],
      "execution_count": null,
      "outputs": []
    },
    {
      "cell_type": "code",
      "metadata": {
        "id": "rWhmS1BqWMXp"
      },
      "source": [
        "MSFT = data.copy()\n",
        "data = data[['M','Returns']]"
      ],
      "execution_count": null,
      "outputs": []
    },
    {
      "cell_type": "code",
      "metadata": {
        "id": "TGhyRmzYXCO7"
      },
      "source": [
        "data = data.drop_duplicates(subset=['M'])\n",
        "data.rename({'M':'Date'}, axis = 1, inplace = True)"
      ],
      "execution_count": null,
      "outputs": []
    },
    {
      "cell_type": "code",
      "metadata": {
        "id": "5PYtRz55X0Zp"
      },
      "source": [
        "nsdq = nsdq.reset_index()\n",
        "nsdq['M'] = nsdq['Date'].dt.to_period('m')\n",
        "nsdq['ret_1'] = nsdq['Market Returns'] + 1\n",
        "group = nsdq.groupby(['M'])\n",
        "nsdq['Returns'] = group['ret_1'].transform(np.product) - 1\n",
        "NSDQ = nsdq.copy()\n",
        "nsdq = nsdq[['M','Returns']]\n",
        "nsdq = nsdq.drop_duplicates(subset = ['M'])\n",
        "nsdq.rename({'M':'Date'}, axis = 1, inplace = True)"
      ],
      "execution_count": null,
      "outputs": []
    },
    {
      "cell_type": "code",
      "metadata": {
        "colab": {
          "base_uri": "https://localhost:8080/",
          "height": 204
        },
        "id": "LTmZotElX2eM",
        "outputId": "b74f8e90-7e1f-4973-cdf8-3222381ab6b4"
      },
      "source": [
        "nsdq.head()"
      ],
      "execution_count": null,
      "outputs": [
        {
          "output_type": "execute_result",
          "data": {
            "text/html": [
              "<div>\n",
              "<style scoped>\n",
              "    .dataframe tbody tr th:only-of-type {\n",
              "        vertical-align: middle;\n",
              "    }\n",
              "\n",
              "    .dataframe tbody tr th {\n",
              "        vertical-align: top;\n",
              "    }\n",
              "\n",
              "    .dataframe thead th {\n",
              "        text-align: right;\n",
              "    }\n",
              "</style>\n",
              "<table border=\"1\" class=\"dataframe\">\n",
              "  <thead>\n",
              "    <tr style=\"text-align: right;\">\n",
              "      <th></th>\n",
              "      <th>Date</th>\n",
              "      <th>Returns</th>\n",
              "    </tr>\n",
              "  </thead>\n",
              "  <tbody>\n",
              "    <tr>\n",
              "      <th>0</th>\n",
              "      <td>2015-07</td>\n",
              "      <td>0.000000</td>\n",
              "    </tr>\n",
              "    <tr>\n",
              "      <th>1</th>\n",
              "      <td>2015-08</td>\n",
              "      <td>-0.068594</td>\n",
              "    </tr>\n",
              "    <tr>\n",
              "      <th>22</th>\n",
              "      <td>2015-09</td>\n",
              "      <td>-0.032733</td>\n",
              "    </tr>\n",
              "    <tr>\n",
              "      <th>43</th>\n",
              "      <td>2015-10</td>\n",
              "      <td>0.093847</td>\n",
              "    </tr>\n",
              "    <tr>\n",
              "      <th>65</th>\n",
              "      <td>2015-11</td>\n",
              "      <td>0.010867</td>\n",
              "    </tr>\n",
              "  </tbody>\n",
              "</table>\n",
              "</div>"
            ],
            "text/plain": [
              "       Date   Returns\n",
              "0   2015-07  0.000000\n",
              "1   2015-08 -0.068594\n",
              "22  2015-09 -0.032733\n",
              "43  2015-10  0.093847\n",
              "65  2015-11  0.010867"
            ]
          },
          "metadata": {
            "tags": []
          },
          "execution_count": 324
        }
      ]
    },
    {
      "cell_type": "code",
      "metadata": {
        "colab": {
          "base_uri": "https://localhost:8080/",
          "height": 204
        },
        "id": "OVUec_TkZW5A",
        "outputId": "6e5b7519-3c09-4e7a-a68d-a771658854ac"
      },
      "source": [
        "tbill['Date'] = pd.to_datetime(tbill['Date'])\n",
        "tbill['M'] = tbill['Date'].dt.to_period('m')\n",
        "tbill.head()"
      ],
      "execution_count": null,
      "outputs": [
        {
          "output_type": "execute_result",
          "data": {
            "text/html": [
              "<div>\n",
              "<style scoped>\n",
              "    .dataframe tbody tr th:only-of-type {\n",
              "        vertical-align: middle;\n",
              "    }\n",
              "\n",
              "    .dataframe tbody tr th {\n",
              "        vertical-align: top;\n",
              "    }\n",
              "\n",
              "    .dataframe thead th {\n",
              "        text-align: right;\n",
              "    }\n",
              "</style>\n",
              "<table border=\"1\" class=\"dataframe\">\n",
              "  <thead>\n",
              "    <tr style=\"text-align: right;\">\n",
              "      <th></th>\n",
              "      <th>Date</th>\n",
              "      <th>Open</th>\n",
              "      <th>High</th>\n",
              "      <th>Low</th>\n",
              "      <th>Close</th>\n",
              "      <th>M</th>\n",
              "    </tr>\n",
              "  </thead>\n",
              "  <tbody>\n",
              "    <tr>\n",
              "      <th>0</th>\n",
              "      <td>2021-07-30</td>\n",
              "      <td>1.272</td>\n",
              "      <td>1.272</td>\n",
              "      <td>1.226</td>\n",
              "      <td>1.228</td>\n",
              "      <td>2021-07</td>\n",
              "    </tr>\n",
              "    <tr>\n",
              "      <th>1</th>\n",
              "      <td>2021-07-29</td>\n",
              "      <td>1.234</td>\n",
              "      <td>1.289</td>\n",
              "      <td>1.231</td>\n",
              "      <td>1.272</td>\n",
              "      <td>2021-07</td>\n",
              "    </tr>\n",
              "    <tr>\n",
              "      <th>2</th>\n",
              "      <td>2021-07-28</td>\n",
              "      <td>1.247</td>\n",
              "      <td>1.273</td>\n",
              "      <td>1.226</td>\n",
              "      <td>1.234</td>\n",
              "      <td>2021-07</td>\n",
              "    </tr>\n",
              "    <tr>\n",
              "      <th>3</th>\n",
              "      <td>2021-07-27</td>\n",
              "      <td>1.297</td>\n",
              "      <td>1.297</td>\n",
              "      <td>1.231</td>\n",
              "      <td>1.247</td>\n",
              "      <td>2021-07</td>\n",
              "    </tr>\n",
              "    <tr>\n",
              "      <th>4</th>\n",
              "      <td>2021-07-26</td>\n",
              "      <td>1.276</td>\n",
              "      <td>1.301</td>\n",
              "      <td>1.221</td>\n",
              "      <td>1.297</td>\n",
              "      <td>2021-07</td>\n",
              "    </tr>\n",
              "  </tbody>\n",
              "</table>\n",
              "</div>"
            ],
            "text/plain": [
              "        Date   Open   High    Low   Close        M\n",
              "0 2021-07-30  1.272  1.272  1.226   1.228  2021-07\n",
              "1 2021-07-29  1.234  1.289  1.231   1.272  2021-07\n",
              "2 2021-07-28  1.247  1.273  1.226   1.234  2021-07\n",
              "3 2021-07-27  1.297  1.297  1.231   1.247  2021-07\n",
              "4 2021-07-26  1.276  1.301  1.221   1.297  2021-07"
            ]
          },
          "metadata": {
            "tags": []
          },
          "execution_count": 325
        }
      ]
    },
    {
      "cell_type": "code",
      "metadata": {
        "id": "5ZXZvpklpXuq"
      },
      "source": [
        "tbill['ret_1'] = tbill[' Close']\n",
        "group = tbill.groupby(['M'])\n",
        "tbill['Rate'] = group['ret_1'].transform(np.mean)\n",
        "Tbill = tbill.copy()\n",
        "tbill = tbill[['M','Rate']]\n",
        "tbill = tbill.drop_duplicates(subset = ['M'])\n",
        "tbill.rename({'M':'Date'}, axis = 1, inplace = True)"
      ],
      "execution_count": null,
      "outputs": []
    },
    {
      "cell_type": "code",
      "metadata": {
        "colab": {
          "base_uri": "https://localhost:8080/",
          "height": 204
        },
        "id": "jGZMwzo4qLRy",
        "outputId": "bdf81b2d-5183-4799-d7fd-40a3597a7948"
      },
      "source": [
        "tbill.head()"
      ],
      "execution_count": null,
      "outputs": [
        {
          "output_type": "execute_result",
          "data": {
            "text/html": [
              "<div>\n",
              "<style scoped>\n",
              "    .dataframe tbody tr th:only-of-type {\n",
              "        vertical-align: middle;\n",
              "    }\n",
              "\n",
              "    .dataframe tbody tr th {\n",
              "        vertical-align: top;\n",
              "    }\n",
              "\n",
              "    .dataframe thead th {\n",
              "        text-align: right;\n",
              "    }\n",
              "</style>\n",
              "<table border=\"1\" class=\"dataframe\">\n",
              "  <thead>\n",
              "    <tr style=\"text-align: right;\">\n",
              "      <th></th>\n",
              "      <th>Date</th>\n",
              "      <th>Rate</th>\n",
              "    </tr>\n",
              "  </thead>\n",
              "  <tbody>\n",
              "    <tr>\n",
              "      <th>0</th>\n",
              "      <td>2021-07</td>\n",
              "      <td>1.314864</td>\n",
              "    </tr>\n",
              "    <tr>\n",
              "      <th>22</th>\n",
              "      <td>2021-06</td>\n",
              "      <td>1.513409</td>\n",
              "    </tr>\n",
              "    <tr>\n",
              "      <th>44</th>\n",
              "      <td>2021-05</td>\n",
              "      <td>1.611952</td>\n",
              "    </tr>\n",
              "    <tr>\n",
              "      <th>65</th>\n",
              "      <td>2021-04</td>\n",
              "      <td>1.623409</td>\n",
              "    </tr>\n",
              "    <tr>\n",
              "      <th>87</th>\n",
              "      <td>2021-03</td>\n",
              "      <td>1.611913</td>\n",
              "    </tr>\n",
              "  </tbody>\n",
              "</table>\n",
              "</div>"
            ],
            "text/plain": [
              "       Date      Rate\n",
              "0   2021-07  1.314864\n",
              "22  2021-06  1.513409\n",
              "44  2021-05  1.611952\n",
              "65  2021-04  1.623409\n",
              "87  2021-03  1.611913"
            ]
          },
          "metadata": {
            "tags": []
          },
          "execution_count": 327
        }
      ]
    },
    {
      "cell_type": "code",
      "metadata": {
        "id": "wy96VMF-qP8r"
      },
      "source": [
        "tbill['Year'] = tbill[\"Date\"].astype(str).str[:4]"
      ],
      "execution_count": null,
      "outputs": []
    },
    {
      "cell_type": "code",
      "metadata": {
        "id": "j2DK_bE0xrG3"
      },
      "source": [
        "tbill['Year'] = tbill['Year'].astype(int)"
      ],
      "execution_count": null,
      "outputs": []
    },
    {
      "cell_type": "code",
      "metadata": {
        "id": "T4RaBgEWy0RP"
      },
      "source": [
        "hml = pd.read_csv('/content/drive/MyDrive/North_America_3_Factors.csv')"
      ],
      "execution_count": null,
      "outputs": []
    },
    {
      "cell_type": "code",
      "metadata": {
        "id": "8gkSjQ0_zM3-"
      },
      "source": [
        "hml['Date'] = hml['Date'].astype(int)"
      ],
      "execution_count": null,
      "outputs": []
    },
    {
      "cell_type": "code",
      "metadata": {
        "id": "l-d8Np2Ozieb"
      },
      "source": [
        "hml.rename({'Date':'Year'}, axis = 1, inplace = True)"
      ],
      "execution_count": null,
      "outputs": []
    },
    {
      "cell_type": "code",
      "metadata": {
        "id": "oqAFHlmTzzLV"
      },
      "source": [
        "tbill = pd.merge(tbill,hml,on = 'Year', how = 'left')"
      ],
      "execution_count": null,
      "outputs": []
    },
    {
      "cell_type": "code",
      "metadata": {
        "id": "NeIV6INT0e9m"
      },
      "source": [
        "tbill.drop(['Year'],axis = 1, inplace = True)"
      ],
      "execution_count": null,
      "outputs": []
    },
    {
      "cell_type": "code",
      "metadata": {
        "colab": {
          "base_uri": "https://localhost:8080/",
          "height": 204
        },
        "id": "0RNYaCqQ0hDW",
        "outputId": "3a809558-9cb1-4ad1-8824-6eec231dcb6c"
      },
      "source": [
        "tbill.head()"
      ],
      "execution_count": null,
      "outputs": [
        {
          "output_type": "execute_result",
          "data": {
            "text/html": [
              "<div>\n",
              "<style scoped>\n",
              "    .dataframe tbody tr th:only-of-type {\n",
              "        vertical-align: middle;\n",
              "    }\n",
              "\n",
              "    .dataframe tbody tr th {\n",
              "        vertical-align: top;\n",
              "    }\n",
              "\n",
              "    .dataframe thead th {\n",
              "        text-align: right;\n",
              "    }\n",
              "</style>\n",
              "<table border=\"1\" class=\"dataframe\">\n",
              "  <thead>\n",
              "    <tr style=\"text-align: right;\">\n",
              "      <th></th>\n",
              "      <th>Date</th>\n",
              "      <th>Rate</th>\n",
              "      <th>SMB</th>\n",
              "      <th>HML</th>\n",
              "    </tr>\n",
              "  </thead>\n",
              "  <tbody>\n",
              "    <tr>\n",
              "      <th>0</th>\n",
              "      <td>2021-07</td>\n",
              "      <td>1.314864</td>\n",
              "      <td>1.79</td>\n",
              "      <td>-7.7</td>\n",
              "    </tr>\n",
              "    <tr>\n",
              "      <th>1</th>\n",
              "      <td>2021-06</td>\n",
              "      <td>1.513409</td>\n",
              "      <td>1.79</td>\n",
              "      <td>-7.7</td>\n",
              "    </tr>\n",
              "    <tr>\n",
              "      <th>2</th>\n",
              "      <td>2021-05</td>\n",
              "      <td>1.611952</td>\n",
              "      <td>1.79</td>\n",
              "      <td>-7.7</td>\n",
              "    </tr>\n",
              "    <tr>\n",
              "      <th>3</th>\n",
              "      <td>2021-04</td>\n",
              "      <td>1.623409</td>\n",
              "      <td>1.79</td>\n",
              "      <td>-7.7</td>\n",
              "    </tr>\n",
              "    <tr>\n",
              "      <th>4</th>\n",
              "      <td>2021-03</td>\n",
              "      <td>1.611913</td>\n",
              "      <td>1.79</td>\n",
              "      <td>-7.7</td>\n",
              "    </tr>\n",
              "  </tbody>\n",
              "</table>\n",
              "</div>"
            ],
            "text/plain": [
              "      Date      Rate   SMB  HML\n",
              "0  2021-07  1.314864  1.79 -7.7\n",
              "1  2021-06  1.513409  1.79 -7.7\n",
              "2  2021-05  1.611952  1.79 -7.7\n",
              "3  2021-04  1.623409  1.79 -7.7\n",
              "4  2021-03  1.611913  1.79 -7.7"
            ]
          },
          "metadata": {
            "tags": []
          },
          "execution_count": 335
        }
      ]
    },
    {
      "cell_type": "code",
      "metadata": {
        "id": "r6JbjxBJ0x_B"
      },
      "source": [
        "nsdq.rename({'Returns':'Market Returns'}, axis = 1, inplace = True)"
      ],
      "execution_count": null,
      "outputs": []
    },
    {
      "cell_type": "code",
      "metadata": {
        "id": "Bq3PNQpP1Eok"
      },
      "source": [
        "tbill = pd.merge(tbill,nsdq,on = 'Date', how = 'left')"
      ],
      "execution_count": null,
      "outputs": []
    },
    {
      "cell_type": "code",
      "metadata": {
        "id": "pwODK_VL1d9z"
      },
      "source": [
        ""
      ],
      "execution_count": null,
      "outputs": []
    },
    {
      "cell_type": "code",
      "metadata": {
        "id": "5B-PKwpj1WH4"
      },
      "source": [
        "tbill = pd.merge(tbill,data,on = 'Date', how = 'left')"
      ],
      "execution_count": null,
      "outputs": []
    },
    {
      "cell_type": "code",
      "metadata": {
        "colab": {
          "base_uri": "https://localhost:8080/",
          "height": 204
        },
        "id": "It8UzsuI1jIQ",
        "outputId": "0201cf52-dd46-4c2f-f31e-ed7196c24662"
      },
      "source": [
        "tbill.head()"
      ],
      "execution_count": null,
      "outputs": [
        {
          "output_type": "execute_result",
          "data": {
            "text/html": [
              "<div>\n",
              "<style scoped>\n",
              "    .dataframe tbody tr th:only-of-type {\n",
              "        vertical-align: middle;\n",
              "    }\n",
              "\n",
              "    .dataframe tbody tr th {\n",
              "        vertical-align: top;\n",
              "    }\n",
              "\n",
              "    .dataframe thead th {\n",
              "        text-align: right;\n",
              "    }\n",
              "</style>\n",
              "<table border=\"1\" class=\"dataframe\">\n",
              "  <thead>\n",
              "    <tr style=\"text-align: right;\">\n",
              "      <th></th>\n",
              "      <th>Date</th>\n",
              "      <th>Rate</th>\n",
              "      <th>SMB</th>\n",
              "      <th>HML</th>\n",
              "      <th>Market Returns</th>\n",
              "      <th>Returns</th>\n",
              "    </tr>\n",
              "  </thead>\n",
              "  <tbody>\n",
              "    <tr>\n",
              "      <th>0</th>\n",
              "      <td>2021-07</td>\n",
              "      <td>1.314864</td>\n",
              "      <td>1.79</td>\n",
              "      <td>-7.7</td>\n",
              "      <td>0.011633</td>\n",
              "      <td>0.051717</td>\n",
              "    </tr>\n",
              "    <tr>\n",
              "      <th>1</th>\n",
              "      <td>2021-06</td>\n",
              "      <td>1.513409</td>\n",
              "      <td>1.79</td>\n",
              "      <td>-7.7</td>\n",
              "      <td>0.054929</td>\n",
              "      <td>0.084989</td>\n",
              "    </tr>\n",
              "    <tr>\n",
              "      <th>2</th>\n",
              "      <td>2021-05</td>\n",
              "      <td>1.611952</td>\n",
              "      <td>1.79</td>\n",
              "      <td>-7.7</td>\n",
              "      <td>-0.015322</td>\n",
              "      <td>-0.007627</td>\n",
              "    </tr>\n",
              "    <tr>\n",
              "      <th>3</th>\n",
              "      <td>2021-04</td>\n",
              "      <td>1.623409</td>\n",
              "      <td>1.79</td>\n",
              "      <td>-7.7</td>\n",
              "      <td>0.054036</td>\n",
              "      <td>0.069602</td>\n",
              "    </tr>\n",
              "    <tr>\n",
              "      <th>4</th>\n",
              "      <td>2021-03</td>\n",
              "      <td>1.611913</td>\n",
              "      <td>1.79</td>\n",
              "      <td>-7.7</td>\n",
              "      <td>0.004133</td>\n",
              "      <td>0.014588</td>\n",
              "    </tr>\n",
              "  </tbody>\n",
              "</table>\n",
              "</div>"
            ],
            "text/plain": [
              "      Date      Rate   SMB  HML  Market Returns   Returns\n",
              "0  2021-07  1.314864  1.79 -7.7        0.011633  0.051717\n",
              "1  2021-06  1.513409  1.79 -7.7        0.054929  0.084989\n",
              "2  2021-05  1.611952  1.79 -7.7       -0.015322 -0.007627\n",
              "3  2021-04  1.623409  1.79 -7.7        0.054036  0.069602\n",
              "4  2021-03  1.611913  1.79 -7.7        0.004133  0.014588"
            ]
          },
          "metadata": {
            "tags": []
          },
          "execution_count": 339
        }
      ]
    },
    {
      "cell_type": "code",
      "metadata": {
        "id": "tbaGBg8g1k7Q"
      },
      "source": [
        "tbill['Risk Free Rate'] = tbill['Rate']/100"
      ],
      "execution_count": null,
      "outputs": []
    },
    {
      "cell_type": "code",
      "metadata": {
        "id": "3QCmPuoM1_4L"
      },
      "source": [
        "tbill['RF/12'] = tbill['Risk Free Rate']/12"
      ],
      "execution_count": null,
      "outputs": []
    },
    {
      "cell_type": "code",
      "metadata": {
        "id": "bp5ofg9V2K_5"
      },
      "source": [
        "tbill['Microsoft Returns'] = tbill['Returns']"
      ],
      "execution_count": null,
      "outputs": []
    },
    {
      "cell_type": "code",
      "metadata": {
        "id": "YNLp_YXe2bKM"
      },
      "source": [
        "tbill['Excess Stock Return'] = tbill['Microsoft Returns'] - tbill['RF/12']"
      ],
      "execution_count": null,
      "outputs": []
    },
    {
      "cell_type": "code",
      "metadata": {
        "id": "sm5HG4Zw4Rxy"
      },
      "source": [
        "tbill['Excess Stock Return'] = tbill['Excess Stock Return']*100"
      ],
      "execution_count": null,
      "outputs": []
    },
    {
      "cell_type": "code",
      "metadata": {
        "id": "ifhjD3JD2tHz"
      },
      "source": [
        "tbill['Nasdaq Returns'] = tbill['Market Returns']"
      ],
      "execution_count": null,
      "outputs": []
    },
    {
      "cell_type": "code",
      "metadata": {
        "id": "cX4jZG1t21gW"
      },
      "source": [
        "tbill['Excess Market Return'] = tbill['Nasdaq Returns'] - tbill['RF/12']"
      ],
      "execution_count": null,
      "outputs": []
    },
    {
      "cell_type": "code",
      "metadata": {
        "id": "VDh9XfOx4HQe"
      },
      "source": [
        "tbill['Excess Market Return'] = tbill['Excess Market Return']*100"
      ],
      "execution_count": null,
      "outputs": []
    },
    {
      "cell_type": "code",
      "metadata": {
        "id": "Z5w5lBwJG4Os"
      },
      "source": [
        "import numpy as np\n",
        "from sklearn.linear_model import LinearRegression\n"
      ],
      "execution_count": null,
      "outputs": []
    },
    {
      "cell_type": "code",
      "metadata": {
        "id": "YfXzMX1TG36J"
      },
      "source": [
        "x = tbill['Excess Market Return'].values\n",
        "y = tbill['Excess Stock Return'].values"
      ],
      "execution_count": null,
      "outputs": []
    },
    {
      "cell_type": "code",
      "metadata": {
        "id": "Lbd88gyBJX8d"
      },
      "source": [
        "x = x.reshape(-1,1)"
      ],
      "execution_count": null,
      "outputs": []
    },
    {
      "cell_type": "code",
      "metadata": {
        "colab": {
          "base_uri": "https://localhost:8080/"
        },
        "id": "rMYueWkAG3op",
        "outputId": "240b591f-b456-4fc9-eeed-d48ecfccf059"
      },
      "source": [
        "model = LinearRegression()\n",
        "model = LinearRegression().fit(x, y)\n",
        "r_sq = model.score(x, y)\n",
        "print('coefficient of determination:', r_sq)\n",
        "print('intercept:', model.intercept_)\n",
        "print('slope:', model.coef_)\n",
        "y_pred = model.predict(x)\n",
        "print('predicted response:', y_pred, sep='\\n')"
      ],
      "execution_count": null,
      "outputs": [
        {
          "output_type": "stream",
          "text": [
            "coefficient of determination: 0.6142968236553744\n",
            "intercept: 1.435098031387667\n",
            "slope: [0.85518892]\n",
            "predicted response:\n",
            "[ 2.33626428e+00  6.02474466e+00  9.88052670e-03  5.94051437e+00\n",
            "  1.67365092e+00  2.14220688e+00  2.56930777e+00  6.20304681e+00\n",
            "  1.14615363e+01 -5.80180097e-01 -3.02851301e+00  9.58790308e+00\n",
            "  7.22768479e+00  6.51001937e+00  7.16243245e+00  1.45990139e+01\n",
            " -7.28470955e+00 -4.12629501e+00  3.00958379e+00  4.33350143e+00\n",
            "  5.15321512e+00  4.44623117e+00  1.70630919e+00 -9.04091725e-01\n",
            "  3.09567998e+00  7.63364090e+00 -5.51981969e+00  5.30509839e+00\n",
            "  3.48613979e+00  4.18990569e+00  9.57408220e+00 -6.87784845e+00\n",
            "  1.50145446e+00 -6.65930467e+00  5.54693268e-01  6.10892727e+00\n",
            "  3.06803051e+00  2.01085876e+00  5.77140163e+00  1.26469546e+00\n",
            " -1.23166848e+00 -3.66294113e-01  7.54516563e+00  1.62978414e+00\n",
            "  3.12699440e+00  4.31753736e+00  2.17358978e+00  2.36284619e+00\n",
            "  4.16281189e+00  4.77707451e-01  3.40509472e+00  3.23740792e+00\n",
            "  2.52523754e+00  4.47124707e+00  4.94260366e+00  2.21250202e+00\n",
            "  3.49977908e+00 -6.68120613e-01  2.93958946e+00  2.17050819e+00\n",
            "  6.97005394e+00 -5.03137623e-01  4.39930237e+00 -3.52370193e-01\n",
            "  7.15287285e+00  2.70788498e-01 -5.43256158e+00 -4.19358514e-01\n",
            "  2.20354267e+00  9.31422682e+00 -1.51858267e+00 -4.58502714e+00\n",
            "  1.27945365e+00]\n"
          ],
          "name": "stdout"
        }
      ]
    },
    {
      "cell_type": "code",
      "metadata": {
        "id": "er87LNMrNN11"
      },
      "source": [
        "tbill['Prediction'] = y_pred"
      ],
      "execution_count": null,
      "outputs": []
    },
    {
      "cell_type": "code",
      "metadata": {
        "id": "d_IwUXPlNYMH"
      },
      "source": [
        "fama = tbill[['Excess Market Return','HML','SMB','Excess Stock Return']]"
      ],
      "execution_count": null,
      "outputs": []
    },
    {
      "cell_type": "code",
      "metadata": {
        "id": "7oZaC2EqPCJB"
      },
      "source": [
        "y = fama['Excess Stock Return']\n",
        "x = fama.iloc[:,:3]"
      ],
      "execution_count": null,
      "outputs": []
    },
    {
      "cell_type": "code",
      "metadata": {
        "id": "iizyUusOPQn2"
      },
      "source": [
        "x = x.values\n",
        "y = y.values"
      ],
      "execution_count": null,
      "outputs": []
    },
    {
      "cell_type": "code",
      "metadata": {
        "colab": {
          "base_uri": "https://localhost:8080/"
        },
        "id": "3vOv0BDkPjpq",
        "outputId": "c4f58700-a188-46fd-9c9d-a1ac67b2dc6f"
      },
      "source": [
        "model = LinearRegression()\n",
        "model = LinearRegression().fit(x, y)\n",
        "r_sq = model.score(x, y)\n",
        "print('coefficient of determination:', r_sq)\n",
        "print('intercept:', model.intercept_)\n",
        "print('slope:', model.coef_)\n",
        "y_pred = model.predict(x)\n",
        "print('predicted response:', y_pred, sep='\\n')"
      ],
      "execution_count": null,
      "outputs": [
        {
          "output_type": "stream",
          "text": [
            "coefficient of determination: 0.6305289398845757\n",
            "intercept: 1.4688257592515468\n",
            "slope: [ 0.87856321  0.00696435 -0.11395933]\n",
            "predicted response:\n",
            "[ 2.13701024  5.92630534 -0.25295896  5.83977284  1.45628612  1.9376488\n",
            "  2.37642335  5.07839571 10.48061192 -1.89023249 -4.40548401  8.55576794\n",
            "  6.13103942  5.39375854  6.06400358 13.70384403 -8.77801226 -5.53327094\n",
            "  1.79764795  4.81529552  5.65741388  4.93110642  2.11629603 -0.56545319\n",
            "  3.54364154  8.20563544 -5.30733969  5.81344847  3.94477352  4.66777498\n",
            " 10.1991135  -6.38138042  2.22694824 -6.15686333  1.25430987  6.96035396\n",
            "  3.83634245  2.75027574  6.61360296  1.98371807 -0.58087728  0.30814977\n",
            "  8.43584804  1.8594962   3.39762869  4.62071194  2.41816532  2.61259454\n",
            "  4.46175747  0.6759306   3.68333014  3.51106007  2.77942442  4.7786229\n",
            "  5.26286276  1.69970476  3.02216608 -1.25965196  2.44666518  1.65656314\n",
            "  6.58729159 -1.09015961  3.94627542 -0.93527135  6.77510736 -0.29508029\n",
            " -6.15431614  0.26869674  2.96328789 10.26832351 -0.86057175 -4.01082925\n",
            "  2.01394138]\n"
          ],
          "name": "stdout"
        }
      ]
    },
    {
      "cell_type": "code",
      "metadata": {
        "id": "vXPr3tlcRDhJ"
      },
      "source": [
        "tbill['3 Factor Model Prediction'] = y_pred"
      ],
      "execution_count": null,
      "outputs": []
    },
    {
      "cell_type": "code",
      "metadata": {
        "id": "lOpoLYlg3RYs"
      },
      "source": [
        "tbill.to_excel('Microsoft_Output.xlsx')\n",
        "!cp Microsoft_Output.xlsx \"drive/My Drive/\""
      ],
      "execution_count": null,
      "outputs": []
    },
    {
      "cell_type": "code",
      "metadata": {
        "id": "oje_2UCr3VcG"
      },
      "source": [
        ""
      ],
      "execution_count": null,
      "outputs": []
    }
  ]
}